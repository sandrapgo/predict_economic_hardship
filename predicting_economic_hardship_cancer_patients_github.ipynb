{
 "cells": [
  {
   "cell_type": "markdown",
   "metadata": {},
   "source": [
    "# Predicting Economic Distress Among Patients Diagnosed With Cancer"
   ]
  },
  {
   "cell_type": "markdown",
   "metadata": {},
   "source": [
    "## Overview\n",
    "\n",
    "Cancer patients have to copy not only with understanding and analazying all the treatment and care options but also with the financial distress that come with the management of the disease. Since copy with stress plays a big role on the effectiveness of the recovery, it is crucial to identify cancer patients that are more likely to be impacted by economic hardship.\n",
    "\n",
    "This research uses a few machine learning models (logistic regression, support vector machine, decision tree, and random forest) to predict economic hardship among cancer patients.\n"
   ]
  },
  {
   "cell_type": "markdown",
   "metadata": {},
   "source": [
    "## Data\n",
    "\n",
    "The data comes from the 2016 Medical Expenditure Panel Survey (MEPS), specifically the full-year consolidated data file. The analytic sample consist of all patients who have been diagnosed with any type of cancer. \n",
    "\n",
    "The label variable is a dichotomous variable that expresses economic stress. The target variable was built using five variables: \n",
    "- money borrowed or in debt \n",
    "- unable to cover medical bills\n",
    "- self or family file bankruptcy\n",
    "- worry pay medical bills\n",
    "- worry income stability\n",
    "\n",
    "For the purpose of this analysis, we will clasify cancer patients experiencing financial as those who answered positively to at least one the economic hardship index variables.\n",
    "\n",
    "The feature variables include age, gender, level of education, insurance, race/ethnicity, total health care expenditures, total out-of-pockets costs, and comorbities(heart, stroke, emphysema, high cholesterol, diabetes, arthristis, and asthma."
   ]
  },
  {
   "cell_type": "code",
   "execution_count": 1,
   "metadata": {},
   "outputs": [],
   "source": [
    "import pandas as pd\n",
    "import numpy as np\n",
    "import matplotlib.pyplot as plt\n",
    "import seaborn as sns\n",
    "from scipy.stats import norm\n",
    "color = sns.color_palette()\n",
    "\n",
    "import warnings\n",
    "warnings.filterwarnings(\"ignore\")"
   ]
  },
  {
   "cell_type": "code",
   "execution_count": 2,
   "metadata": {},
   "outputs": [],
   "source": [
    "df= pd.read_csv('economic_distress_cancer/final.csv')"
   ]
  },
  {
   "cell_type": "code",
   "execution_count": 3,
   "metadata": {},
   "outputs": [
    {
     "data": {
      "text/plain": [
       "Index(['econstres', 'famsize', 'age', 'gender', 'raceth', 'edu', 'heart',\n",
       "       'stroke', 'emphy', 'choles', 'diabe', 'arthr', 'asthm', 'pover',\n",
       "       'insurance', 'totexp', 'totslf'],\n",
       "      dtype='object')"
      ]
     },
     "execution_count": 3,
     "metadata": {},
     "output_type": "execute_result"
    }
   ],
   "source": [
    "df.columns\n"
   ]
  },
  {
   "cell_type": "code",
   "execution_count": 4,
   "metadata": {},
   "outputs": [
    {
     "data": {
      "text/html": [
       "<div>\n",
       "<style scoped>\n",
       "    .dataframe tbody tr th:only-of-type {\n",
       "        vertical-align: middle;\n",
       "    }\n",
       "\n",
       "    .dataframe tbody tr th {\n",
       "        vertical-align: top;\n",
       "    }\n",
       "\n",
       "    .dataframe thead th {\n",
       "        text-align: right;\n",
       "    }\n",
       "</style>\n",
       "<table border=\"1\" class=\"dataframe\">\n",
       "  <thead>\n",
       "    <tr style=\"text-align: right;\">\n",
       "      <th></th>\n",
       "      <th>econstres</th>\n",
       "      <th>famsize</th>\n",
       "      <th>age</th>\n",
       "      <th>gender</th>\n",
       "      <th>raceth</th>\n",
       "      <th>edu</th>\n",
       "      <th>heart</th>\n",
       "      <th>stroke</th>\n",
       "      <th>emphy</th>\n",
       "      <th>choles</th>\n",
       "      <th>diabe</th>\n",
       "      <th>arthr</th>\n",
       "      <th>asthm</th>\n",
       "      <th>pover</th>\n",
       "      <th>insurance</th>\n",
       "      <th>totexp</th>\n",
       "      <th>totslf</th>\n",
       "    </tr>\n",
       "  </thead>\n",
       "  <tbody>\n",
       "    <tr>\n",
       "      <th>0</th>\n",
       "      <td>0</td>\n",
       "      <td>2</td>\n",
       "      <td>84.0</td>\n",
       "      <td>0</td>\n",
       "      <td>white</td>\n",
       "      <td>11.0</td>\n",
       "      <td>0</td>\n",
       "      <td>0</td>\n",
       "      <td>0</td>\n",
       "      <td>1</td>\n",
       "      <td>1</td>\n",
       "      <td>1</td>\n",
       "      <td>0</td>\n",
       "      <td>5</td>\n",
       "      <td>insured</td>\n",
       "      <td>20027</td>\n",
       "      <td>3269</td>\n",
       "    </tr>\n",
       "    <tr>\n",
       "      <th>1</th>\n",
       "      <td>0</td>\n",
       "      <td>1</td>\n",
       "      <td>72.0</td>\n",
       "      <td>1</td>\n",
       "      <td>white</td>\n",
       "      <td>12.0</td>\n",
       "      <td>0</td>\n",
       "      <td>1</td>\n",
       "      <td>0</td>\n",
       "      <td>1</td>\n",
       "      <td>0</td>\n",
       "      <td>0</td>\n",
       "      <td>0</td>\n",
       "      <td>4</td>\n",
       "      <td>insured</td>\n",
       "      <td>3184</td>\n",
       "      <td>440</td>\n",
       "    </tr>\n",
       "    <tr>\n",
       "      <th>2</th>\n",
       "      <td>0</td>\n",
       "      <td>2</td>\n",
       "      <td>78.0</td>\n",
       "      <td>1</td>\n",
       "      <td>white</td>\n",
       "      <td>14.0</td>\n",
       "      <td>0</td>\n",
       "      <td>0</td>\n",
       "      <td>0</td>\n",
       "      <td>1</td>\n",
       "      <td>0</td>\n",
       "      <td>1</td>\n",
       "      <td>0</td>\n",
       "      <td>5</td>\n",
       "      <td>insured</td>\n",
       "      <td>8268</td>\n",
       "      <td>1478</td>\n",
       "    </tr>\n",
       "  </tbody>\n",
       "</table>\n",
       "</div>"
      ],
      "text/plain": [
       "   econstres  famsize   age  gender raceth   edu  heart  stroke  emphy  \\\n",
       "0          0        2  84.0       0  white  11.0      0       0      0   \n",
       "1          0        1  72.0       1  white  12.0      0       1      0   \n",
       "2          0        2  78.0       1  white  14.0      0       0      0   \n",
       "\n",
       "   choles  diabe  arthr  asthm  pover insurance  totexp  totslf  \n",
       "0       1      1      1      0      5   insured   20027    3269  \n",
       "1       1      0      0      0      4   insured    3184     440  \n",
       "2       1      0      1      0      5   insured    8268    1478  "
      ]
     },
     "execution_count": 4,
     "metadata": {},
     "output_type": "execute_result"
    }
   ],
   "source": [
    "df.head(3)"
   ]
  },
  {
   "cell_type": "code",
   "execution_count": 5,
   "metadata": {
    "scrolled": true
   },
   "outputs": [
    {
     "name": "stdout",
     "output_type": "stream",
     "text": [
      "<class 'pandas.core.frame.DataFrame'>\n",
      "RangeIndex: 1195 entries, 0 to 1194\n",
      "Data columns (total 17 columns):\n",
      "econstres    1195 non-null int64\n",
      "famsize      1195 non-null int64\n",
      "age          1179 non-null float64\n",
      "gender       1195 non-null int64\n",
      "raceth       1195 non-null object\n",
      "edu          1192 non-null float64\n",
      "heart        1195 non-null int64\n",
      "stroke       1195 non-null int64\n",
      "emphy        1195 non-null int64\n",
      "choles       1195 non-null int64\n",
      "diabe        1195 non-null int64\n",
      "arthr        1195 non-null int64\n",
      "asthm        1195 non-null int64\n",
      "pover        1195 non-null int64\n",
      "insurance    1195 non-null object\n",
      "totexp       1195 non-null int64\n",
      "totslf       1195 non-null int64\n",
      "dtypes: float64(2), int64(13), object(2)\n",
      "memory usage: 158.8+ KB\n"
     ]
    }
   ],
   "source": [
    "df.info()"
   ]
  },
  {
   "cell_type": "code",
   "execution_count": 6,
   "metadata": {},
   "outputs": [
    {
     "data": {
      "text/html": [
       "<div>\n",
       "<style scoped>\n",
       "    .dataframe tbody tr th:only-of-type {\n",
       "        vertical-align: middle;\n",
       "    }\n",
       "\n",
       "    .dataframe tbody tr th {\n",
       "        vertical-align: top;\n",
       "    }\n",
       "\n",
       "    .dataframe thead th {\n",
       "        text-align: right;\n",
       "    }\n",
       "</style>\n",
       "<table border=\"1\" class=\"dataframe\">\n",
       "  <thead>\n",
       "    <tr style=\"text-align: right;\">\n",
       "      <th></th>\n",
       "      <th>count</th>\n",
       "      <th>mean</th>\n",
       "      <th>std</th>\n",
       "      <th>min</th>\n",
       "      <th>25%</th>\n",
       "      <th>50%</th>\n",
       "      <th>75%</th>\n",
       "      <th>max</th>\n",
       "    </tr>\n",
       "  </thead>\n",
       "  <tbody>\n",
       "    <tr>\n",
       "      <th>econstres</th>\n",
       "      <td>1195.0</td>\n",
       "      <td>0.301255</td>\n",
       "      <td>0.458995</td>\n",
       "      <td>0.0</td>\n",
       "      <td>0.0</td>\n",
       "      <td>0.0</td>\n",
       "      <td>1.0</td>\n",
       "      <td>1.0</td>\n",
       "    </tr>\n",
       "    <tr>\n",
       "      <th>famsize</th>\n",
       "      <td>1195.0</td>\n",
       "      <td>2.106276</td>\n",
       "      <td>1.067842</td>\n",
       "      <td>1.0</td>\n",
       "      <td>1.0</td>\n",
       "      <td>2.0</td>\n",
       "      <td>2.0</td>\n",
       "      <td>5.0</td>\n",
       "    </tr>\n",
       "    <tr>\n",
       "      <th>age</th>\n",
       "      <td>1179.0</td>\n",
       "      <td>65.765055</td>\n",
       "      <td>13.788849</td>\n",
       "      <td>22.0</td>\n",
       "      <td>57.0</td>\n",
       "      <td>68.0</td>\n",
       "      <td>76.0</td>\n",
       "      <td>85.0</td>\n",
       "    </tr>\n",
       "    <tr>\n",
       "      <th>gender</th>\n",
       "      <td>1195.0</td>\n",
       "      <td>0.410042</td>\n",
       "      <td>0.492047</td>\n",
       "      <td>0.0</td>\n",
       "      <td>0.0</td>\n",
       "      <td>0.0</td>\n",
       "      <td>1.0</td>\n",
       "      <td>1.0</td>\n",
       "    </tr>\n",
       "    <tr>\n",
       "      <th>edu</th>\n",
       "      <td>1192.0</td>\n",
       "      <td>13.674497</td>\n",
       "      <td>2.139098</td>\n",
       "      <td>11.0</td>\n",
       "      <td>12.0</td>\n",
       "      <td>13.0</td>\n",
       "      <td>16.0</td>\n",
       "      <td>17.0</td>\n",
       "    </tr>\n",
       "    <tr>\n",
       "      <th>heart</th>\n",
       "      <td>1195.0</td>\n",
       "      <td>0.102929</td>\n",
       "      <td>0.303993</td>\n",
       "      <td>0.0</td>\n",
       "      <td>0.0</td>\n",
       "      <td>0.0</td>\n",
       "      <td>0.0</td>\n",
       "      <td>1.0</td>\n",
       "    </tr>\n",
       "    <tr>\n",
       "      <th>stroke</th>\n",
       "      <td>1195.0</td>\n",
       "      <td>0.114644</td>\n",
       "      <td>0.318726</td>\n",
       "      <td>0.0</td>\n",
       "      <td>0.0</td>\n",
       "      <td>0.0</td>\n",
       "      <td>0.0</td>\n",
       "      <td>1.0</td>\n",
       "    </tr>\n",
       "    <tr>\n",
       "      <th>emphy</th>\n",
       "      <td>1195.0</td>\n",
       "      <td>0.066946</td>\n",
       "      <td>0.250032</td>\n",
       "      <td>0.0</td>\n",
       "      <td>0.0</td>\n",
       "      <td>0.0</td>\n",
       "      <td>0.0</td>\n",
       "      <td>1.0</td>\n",
       "    </tr>\n",
       "    <tr>\n",
       "      <th>choles</th>\n",
       "      <td>1195.0</td>\n",
       "      <td>0.567364</td>\n",
       "      <td>0.495649</td>\n",
       "      <td>0.0</td>\n",
       "      <td>0.0</td>\n",
       "      <td>1.0</td>\n",
       "      <td>1.0</td>\n",
       "      <td>1.0</td>\n",
       "    </tr>\n",
       "    <tr>\n",
       "      <th>diabe</th>\n",
       "      <td>1195.0</td>\n",
       "      <td>0.199163</td>\n",
       "      <td>0.399538</td>\n",
       "      <td>0.0</td>\n",
       "      <td>0.0</td>\n",
       "      <td>0.0</td>\n",
       "      <td>0.0</td>\n",
       "      <td>1.0</td>\n",
       "    </tr>\n",
       "    <tr>\n",
       "      <th>arthr</th>\n",
       "      <td>1195.0</td>\n",
       "      <td>0.574895</td>\n",
       "      <td>0.494566</td>\n",
       "      <td>0.0</td>\n",
       "      <td>0.0</td>\n",
       "      <td>1.0</td>\n",
       "      <td>1.0</td>\n",
       "      <td>1.0</td>\n",
       "    </tr>\n",
       "    <tr>\n",
       "      <th>asthm</th>\n",
       "      <td>1195.0</td>\n",
       "      <td>0.116318</td>\n",
       "      <td>0.320740</td>\n",
       "      <td>0.0</td>\n",
       "      <td>0.0</td>\n",
       "      <td>0.0</td>\n",
       "      <td>0.0</td>\n",
       "      <td>1.0</td>\n",
       "    </tr>\n",
       "    <tr>\n",
       "      <th>pover</th>\n",
       "      <td>1195.0</td>\n",
       "      <td>3.680335</td>\n",
       "      <td>1.424801</td>\n",
       "      <td>1.0</td>\n",
       "      <td>3.0</td>\n",
       "      <td>4.0</td>\n",
       "      <td>5.0</td>\n",
       "      <td>5.0</td>\n",
       "    </tr>\n",
       "    <tr>\n",
       "      <th>totexp</th>\n",
       "      <td>1195.0</td>\n",
       "      <td>14664.280335</td>\n",
       "      <td>27208.372957</td>\n",
       "      <td>0.0</td>\n",
       "      <td>2098.0</td>\n",
       "      <td>6171.0</td>\n",
       "      <td>15377.5</td>\n",
       "      <td>293166.0</td>\n",
       "    </tr>\n",
       "    <tr>\n",
       "      <th>totslf</th>\n",
       "      <td>1195.0</td>\n",
       "      <td>1136.276151</td>\n",
       "      <td>2004.886383</td>\n",
       "      <td>0.0</td>\n",
       "      <td>170.5</td>\n",
       "      <td>552.0</td>\n",
       "      <td>1306.5</td>\n",
       "      <td>27881.0</td>\n",
       "    </tr>\n",
       "  </tbody>\n",
       "</table>\n",
       "</div>"
      ],
      "text/plain": [
       "            count          mean           std   min     25%     50%      75%  \\\n",
       "econstres  1195.0      0.301255      0.458995   0.0     0.0     0.0      1.0   \n",
       "famsize    1195.0      2.106276      1.067842   1.0     1.0     2.0      2.0   \n",
       "age        1179.0     65.765055     13.788849  22.0    57.0    68.0     76.0   \n",
       "gender     1195.0      0.410042      0.492047   0.0     0.0     0.0      1.0   \n",
       "edu        1192.0     13.674497      2.139098  11.0    12.0    13.0     16.0   \n",
       "heart      1195.0      0.102929      0.303993   0.0     0.0     0.0      0.0   \n",
       "stroke     1195.0      0.114644      0.318726   0.0     0.0     0.0      0.0   \n",
       "emphy      1195.0      0.066946      0.250032   0.0     0.0     0.0      0.0   \n",
       "choles     1195.0      0.567364      0.495649   0.0     0.0     1.0      1.0   \n",
       "diabe      1195.0      0.199163      0.399538   0.0     0.0     0.0      0.0   \n",
       "arthr      1195.0      0.574895      0.494566   0.0     0.0     1.0      1.0   \n",
       "asthm      1195.0      0.116318      0.320740   0.0     0.0     0.0      0.0   \n",
       "pover      1195.0      3.680335      1.424801   1.0     3.0     4.0      5.0   \n",
       "totexp     1195.0  14664.280335  27208.372957   0.0  2098.0  6171.0  15377.5   \n",
       "totslf     1195.0   1136.276151   2004.886383   0.0   170.5   552.0   1306.5   \n",
       "\n",
       "                max  \n",
       "econstres       1.0  \n",
       "famsize         5.0  \n",
       "age            85.0  \n",
       "gender          1.0  \n",
       "edu            17.0  \n",
       "heart           1.0  \n",
       "stroke          1.0  \n",
       "emphy           1.0  \n",
       "choles          1.0  \n",
       "diabe           1.0  \n",
       "arthr           1.0  \n",
       "asthm           1.0  \n",
       "pover           5.0  \n",
       "totexp     293166.0  \n",
       "totslf      27881.0  "
      ]
     },
     "execution_count": 6,
     "metadata": {},
     "output_type": "execute_result"
    }
   ],
   "source": [
    "# Displays the statistic details or descriptive statistics of each variable\n",
    "df.describe().T"
   ]
  },
  {
   "cell_type": "markdown",
   "metadata": {},
   "source": [
    "## Data Preprocessing"
   ]
  },
  {
   "cell_type": "markdown",
   "metadata": {},
   "source": [
    "### Missing Data"
   ]
  },
  {
   "cell_type": "code",
   "execution_count": 7,
   "metadata": {},
   "outputs": [
    {
     "data": {
      "text/html": [
       "<div>\n",
       "<style scoped>\n",
       "    .dataframe tbody tr th:only-of-type {\n",
       "        vertical-align: middle;\n",
       "    }\n",
       "\n",
       "    .dataframe tbody tr th {\n",
       "        vertical-align: top;\n",
       "    }\n",
       "\n",
       "    .dataframe thead th {\n",
       "        text-align: right;\n",
       "    }\n",
       "</style>\n",
       "<table border=\"1\" class=\"dataframe\">\n",
       "  <thead>\n",
       "    <tr style=\"text-align: right;\">\n",
       "      <th></th>\n",
       "      <th>econstres</th>\n",
       "      <th>famsize</th>\n",
       "      <th>age</th>\n",
       "      <th>gender</th>\n",
       "      <th>raceth</th>\n",
       "      <th>edu</th>\n",
       "      <th>heart</th>\n",
       "      <th>stroke</th>\n",
       "      <th>emphy</th>\n",
       "      <th>choles</th>\n",
       "      <th>diabe</th>\n",
       "      <th>arthr</th>\n",
       "      <th>asthm</th>\n",
       "      <th>pover</th>\n",
       "      <th>insurance</th>\n",
       "      <th>totexp</th>\n",
       "      <th>totslf</th>\n",
       "    </tr>\n",
       "  </thead>\n",
       "  <tbody>\n",
       "    <tr>\n",
       "      <th>74</th>\n",
       "      <td>0</td>\n",
       "      <td>2</td>\n",
       "      <td>72.0</td>\n",
       "      <td>0</td>\n",
       "      <td>white</td>\n",
       "      <td>NaN</td>\n",
       "      <td>0</td>\n",
       "      <td>1</td>\n",
       "      <td>0</td>\n",
       "      <td>0</td>\n",
       "      <td>0</td>\n",
       "      <td>1</td>\n",
       "      <td>0</td>\n",
       "      <td>4</td>\n",
       "      <td>insured</td>\n",
       "      <td>5003</td>\n",
       "      <td>326</td>\n",
       "    </tr>\n",
       "    <tr>\n",
       "      <th>129</th>\n",
       "      <td>1</td>\n",
       "      <td>2</td>\n",
       "      <td>NaN</td>\n",
       "      <td>0</td>\n",
       "      <td>black</td>\n",
       "      <td>12.0</td>\n",
       "      <td>0</td>\n",
       "      <td>0</td>\n",
       "      <td>0</td>\n",
       "      <td>1</td>\n",
       "      <td>0</td>\n",
       "      <td>1</td>\n",
       "      <td>0</td>\n",
       "      <td>4</td>\n",
       "      <td>insured</td>\n",
       "      <td>53531</td>\n",
       "      <td>4861</td>\n",
       "    </tr>\n",
       "    <tr>\n",
       "      <th>297</th>\n",
       "      <td>0</td>\n",
       "      <td>1</td>\n",
       "      <td>NaN</td>\n",
       "      <td>1</td>\n",
       "      <td>white</td>\n",
       "      <td>14.0</td>\n",
       "      <td>0</td>\n",
       "      <td>0</td>\n",
       "      <td>0</td>\n",
       "      <td>0</td>\n",
       "      <td>1</td>\n",
       "      <td>0</td>\n",
       "      <td>0</td>\n",
       "      <td>2</td>\n",
       "      <td>insured</td>\n",
       "      <td>24698</td>\n",
       "      <td>496</td>\n",
       "    </tr>\n",
       "  </tbody>\n",
       "</table>\n",
       "</div>"
      ],
      "text/plain": [
       "     econstres  famsize   age  gender raceth   edu  heart  stroke  emphy  \\\n",
       "74           0        2  72.0       0  white   NaN      0       1      0   \n",
       "129          1        2   NaN       0  black  12.0      0       0      0   \n",
       "297          0        1   NaN       1  white  14.0      0       0      0   \n",
       "\n",
       "     choles  diabe  arthr  asthm  pover insurance  totexp  totslf  \n",
       "74        0      0      1      0      4   insured    5003     326  \n",
       "129       1      0      1      0      4   insured   53531    4861  \n",
       "297       0      1      0      0      2   insured   24698     496  "
      ]
     },
     "execution_count": 7,
     "metadata": {},
     "output_type": "execute_result"
    }
   ],
   "source": [
    "miss= df[df.isnull().any(axis=1)]\n",
    "miss.head(3)"
   ]
  },
  {
   "cell_type": "code",
   "execution_count": 8,
   "metadata": {
    "scrolled": true
   },
   "outputs": [
    {
     "data": {
      "text/html": [
       "<div>\n",
       "<style scoped>\n",
       "    .dataframe tbody tr th:only-of-type {\n",
       "        vertical-align: middle;\n",
       "    }\n",
       "\n",
       "    .dataframe tbody tr th {\n",
       "        vertical-align: top;\n",
       "    }\n",
       "\n",
       "    .dataframe thead th {\n",
       "        text-align: right;\n",
       "    }\n",
       "</style>\n",
       "<table border=\"1\" class=\"dataframe\">\n",
       "  <thead>\n",
       "    <tr style=\"text-align: right;\">\n",
       "      <th></th>\n",
       "      <th>Total Missing</th>\n",
       "      <th>Percent</th>\n",
       "    </tr>\n",
       "  </thead>\n",
       "  <tbody>\n",
       "    <tr>\n",
       "      <th>age</th>\n",
       "      <td>16</td>\n",
       "      <td>1.338912</td>\n",
       "    </tr>\n",
       "    <tr>\n",
       "      <th>edu</th>\n",
       "      <td>3</td>\n",
       "      <td>0.251046</td>\n",
       "    </tr>\n",
       "  </tbody>\n",
       "</table>\n",
       "</div>"
      ],
      "text/plain": [
       "     Total Missing   Percent\n",
       "age             16  1.338912\n",
       "edu              3  0.251046"
      ]
     },
     "execution_count": 8,
     "metadata": {},
     "output_type": "execute_result"
    }
   ],
   "source": [
    "total = df.isnull().sum().sort_values(ascending=False)\n",
    "percent = (df.isnull().sum()/df.isnull().count()).sort_values(ascending=False)*100\n",
    "missing_data = pd.concat([total,percent],axis=1, keys=['Total Missing', 'Percent'])\n",
    "missing_data[missing_data['Total Missing']>0]"
   ]
  },
  {
   "cell_type": "markdown",
   "metadata": {},
   "source": [
    "There are two variables that have missing data: age and education. The percentage of missing data is very low. Age is missing 1.3% while education 0.25%. Given that the number of cases of missing values is extremely small, we removed all data for an observation that has one or more missing values (Listwise deletion)."
   ]
  },
  {
   "cell_type": "code",
   "execution_count": 9,
   "metadata": {},
   "outputs": [],
   "source": [
    "# Drop the rows where at least one element is missing.\n",
    "df.dropna(inplace=True)"
   ]
  },
  {
   "cell_type": "code",
   "execution_count": 10,
   "metadata": {},
   "outputs": [
    {
     "data": {
      "text/html": [
       "<div>\n",
       "<style scoped>\n",
       "    .dataframe tbody tr th:only-of-type {\n",
       "        vertical-align: middle;\n",
       "    }\n",
       "\n",
       "    .dataframe tbody tr th {\n",
       "        vertical-align: top;\n",
       "    }\n",
       "\n",
       "    .dataframe thead th {\n",
       "        text-align: right;\n",
       "    }\n",
       "</style>\n",
       "<table border=\"1\" class=\"dataframe\">\n",
       "  <thead>\n",
       "    <tr style=\"text-align: right;\">\n",
       "      <th></th>\n",
       "      <th>econstres</th>\n",
       "      <th>famsize</th>\n",
       "      <th>age</th>\n",
       "      <th>gender</th>\n",
       "      <th>raceth</th>\n",
       "      <th>edu</th>\n",
       "      <th>heart</th>\n",
       "      <th>stroke</th>\n",
       "      <th>emphy</th>\n",
       "      <th>choles</th>\n",
       "      <th>diabe</th>\n",
       "      <th>arthr</th>\n",
       "      <th>asthm</th>\n",
       "      <th>pover</th>\n",
       "      <th>insurance</th>\n",
       "      <th>totexp</th>\n",
       "      <th>totslf</th>\n",
       "    </tr>\n",
       "  </thead>\n",
       "  <tbody>\n",
       "    <tr>\n",
       "      <th>0</th>\n",
       "      <td>0</td>\n",
       "      <td>2</td>\n",
       "      <td>84.0</td>\n",
       "      <td>0</td>\n",
       "      <td>white</td>\n",
       "      <td>11.0</td>\n",
       "      <td>0</td>\n",
       "      <td>0</td>\n",
       "      <td>0</td>\n",
       "      <td>1</td>\n",
       "      <td>1</td>\n",
       "      <td>1</td>\n",
       "      <td>0</td>\n",
       "      <td>5</td>\n",
       "      <td>insured</td>\n",
       "      <td>20027</td>\n",
       "      <td>3269</td>\n",
       "    </tr>\n",
       "    <tr>\n",
       "      <th>1</th>\n",
       "      <td>0</td>\n",
       "      <td>1</td>\n",
       "      <td>72.0</td>\n",
       "      <td>1</td>\n",
       "      <td>white</td>\n",
       "      <td>12.0</td>\n",
       "      <td>0</td>\n",
       "      <td>1</td>\n",
       "      <td>0</td>\n",
       "      <td>1</td>\n",
       "      <td>0</td>\n",
       "      <td>0</td>\n",
       "      <td>0</td>\n",
       "      <td>4</td>\n",
       "      <td>insured</td>\n",
       "      <td>3184</td>\n",
       "      <td>440</td>\n",
       "    </tr>\n",
       "    <tr>\n",
       "      <th>2</th>\n",
       "      <td>0</td>\n",
       "      <td>2</td>\n",
       "      <td>78.0</td>\n",
       "      <td>1</td>\n",
       "      <td>white</td>\n",
       "      <td>14.0</td>\n",
       "      <td>0</td>\n",
       "      <td>0</td>\n",
       "      <td>0</td>\n",
       "      <td>1</td>\n",
       "      <td>0</td>\n",
       "      <td>1</td>\n",
       "      <td>0</td>\n",
       "      <td>5</td>\n",
       "      <td>insured</td>\n",
       "      <td>8268</td>\n",
       "      <td>1478</td>\n",
       "    </tr>\n",
       "  </tbody>\n",
       "</table>\n",
       "</div>"
      ],
      "text/plain": [
       "   econstres  famsize   age  gender raceth   edu  heart  stroke  emphy  \\\n",
       "0          0        2  84.0       0  white  11.0      0       0      0   \n",
       "1          0        1  72.0       1  white  12.0      0       1      0   \n",
       "2          0        2  78.0       1  white  14.0      0       0      0   \n",
       "\n",
       "   choles  diabe  arthr  asthm  pover insurance  totexp  totslf  \n",
       "0       1      1      1      0      5   insured   20027    3269  \n",
       "1       1      0      0      0      4   insured    3184     440  \n",
       "2       1      0      1      0      5   insured    8268    1478  "
      ]
     },
     "execution_count": 10,
     "metadata": {},
     "output_type": "execute_result"
    }
   ],
   "source": [
    "df.head(3)"
   ]
  },
  {
   "cell_type": "markdown",
   "metadata": {},
   "source": [
    "### Cleaning Data"
   ]
  },
  {
   "cell_type": "code",
   "execution_count": 11,
   "metadata": {},
   "outputs": [
    {
     "data": {
      "text/plain": [
       "econstres      int64\n",
       "famsize        int64\n",
       "age          float64\n",
       "gender         int64\n",
       "raceth        object\n",
       "edu          float64\n",
       "heart          int64\n",
       "stroke         int64\n",
       "emphy          int64\n",
       "choles         int64\n",
       "diabe          int64\n",
       "arthr          int64\n",
       "asthm          int64\n",
       "pover          int64\n",
       "insurance     object\n",
       "totexp         int64\n",
       "totslf         int64\n",
       "dtype: object"
      ]
     },
     "execution_count": 11,
     "metadata": {},
     "output_type": "execute_result"
    }
   ],
   "source": [
    "df.dtypes"
   ]
  },
  {
   "cell_type": "markdown",
   "metadata": {},
   "source": [
    "Age and education are represented as float numerical data (number that has a decimal place). We want to convert these variables specified as a whole number (integers)."
   ]
  },
  {
   "cell_type": "code",
   "execution_count": 12,
   "metadata": {},
   "outputs": [],
   "source": [
    "# Convert dtype from float64 to int64\n",
    "for col in ['age', 'edu']:\n",
    "    df[col] = df[col].astype(np.int64)"
   ]
  },
  {
   "cell_type": "code",
   "execution_count": 13,
   "metadata": {},
   "outputs": [
    {
     "data": {
      "text/html": [
       "<div>\n",
       "<style scoped>\n",
       "    .dataframe tbody tr th:only-of-type {\n",
       "        vertical-align: middle;\n",
       "    }\n",
       "\n",
       "    .dataframe tbody tr th {\n",
       "        vertical-align: top;\n",
       "    }\n",
       "\n",
       "    .dataframe thead th {\n",
       "        text-align: right;\n",
       "    }\n",
       "</style>\n",
       "<table border=\"1\" class=\"dataframe\">\n",
       "  <thead>\n",
       "    <tr style=\"text-align: right;\">\n",
       "      <th></th>\n",
       "      <th>econstres</th>\n",
       "      <th>famsize</th>\n",
       "      <th>age</th>\n",
       "      <th>gender</th>\n",
       "      <th>raceth</th>\n",
       "      <th>edu</th>\n",
       "      <th>heart</th>\n",
       "      <th>stroke</th>\n",
       "      <th>emphy</th>\n",
       "      <th>choles</th>\n",
       "      <th>diabe</th>\n",
       "      <th>arthr</th>\n",
       "      <th>asthm</th>\n",
       "      <th>pover</th>\n",
       "      <th>insurance</th>\n",
       "      <th>totexp</th>\n",
       "      <th>totslf</th>\n",
       "    </tr>\n",
       "  </thead>\n",
       "  <tbody>\n",
       "    <tr>\n",
       "      <th>0</th>\n",
       "      <td>0</td>\n",
       "      <td>2</td>\n",
       "      <td>84</td>\n",
       "      <td>0</td>\n",
       "      <td>white</td>\n",
       "      <td>11</td>\n",
       "      <td>0</td>\n",
       "      <td>0</td>\n",
       "      <td>0</td>\n",
       "      <td>1</td>\n",
       "      <td>1</td>\n",
       "      <td>1</td>\n",
       "      <td>0</td>\n",
       "      <td>5</td>\n",
       "      <td>insured</td>\n",
       "      <td>20027</td>\n",
       "      <td>3269</td>\n",
       "    </tr>\n",
       "    <tr>\n",
       "      <th>1</th>\n",
       "      <td>0</td>\n",
       "      <td>1</td>\n",
       "      <td>72</td>\n",
       "      <td>1</td>\n",
       "      <td>white</td>\n",
       "      <td>12</td>\n",
       "      <td>0</td>\n",
       "      <td>1</td>\n",
       "      <td>0</td>\n",
       "      <td>1</td>\n",
       "      <td>0</td>\n",
       "      <td>0</td>\n",
       "      <td>0</td>\n",
       "      <td>4</td>\n",
       "      <td>insured</td>\n",
       "      <td>3184</td>\n",
       "      <td>440</td>\n",
       "    </tr>\n",
       "    <tr>\n",
       "      <th>2</th>\n",
       "      <td>0</td>\n",
       "      <td>2</td>\n",
       "      <td>78</td>\n",
       "      <td>1</td>\n",
       "      <td>white</td>\n",
       "      <td>14</td>\n",
       "      <td>0</td>\n",
       "      <td>0</td>\n",
       "      <td>0</td>\n",
       "      <td>1</td>\n",
       "      <td>0</td>\n",
       "      <td>1</td>\n",
       "      <td>0</td>\n",
       "      <td>5</td>\n",
       "      <td>insured</td>\n",
       "      <td>8268</td>\n",
       "      <td>1478</td>\n",
       "    </tr>\n",
       "  </tbody>\n",
       "</table>\n",
       "</div>"
      ],
      "text/plain": [
       "   econstres  famsize  age  gender raceth  edu  heart  stroke  emphy  choles  \\\n",
       "0          0        2   84       0  white   11      0       0      0       1   \n",
       "1          0        1   72       1  white   12      0       1      0       1   \n",
       "2          0        2   78       1  white   14      0       0      0       1   \n",
       "\n",
       "   diabe  arthr  asthm  pover insurance  totexp  totslf  \n",
       "0      1      1      0      5   insured   20027    3269  \n",
       "1      0      0      0      4   insured    3184     440  \n",
       "2      0      1      0      5   insured    8268    1478  "
      ]
     },
     "execution_count": 13,
     "metadata": {},
     "output_type": "execute_result"
    }
   ],
   "source": [
    "df.head(3)"
   ]
  },
  {
   "cell_type": "code",
   "execution_count": 14,
   "metadata": {},
   "outputs": [
    {
     "data": {
      "text/plain": [
       "array(['insured', 'uninsured'], dtype=object)"
      ]
     },
     "execution_count": 14,
     "metadata": {},
     "output_type": "execute_result"
    }
   ],
   "source": [
    "df['insurance'].unique()"
   ]
  },
  {
   "cell_type": "code",
   "execution_count": 15,
   "metadata": {},
   "outputs": [
    {
     "data": {
      "text/plain": [
       "insured      1152\n",
       "uninsured      24\n",
       "Name: insurance, dtype: int64"
      ]
     },
     "execution_count": 15,
     "metadata": {},
     "output_type": "execute_result"
    }
   ],
   "source": [
    "df['insurance'].value_counts()"
   ]
  },
  {
   "cell_type": "code",
   "execution_count": 16,
   "metadata": {},
   "outputs": [
    {
     "data": {
      "text/html": [
       "<div>\n",
       "<style scoped>\n",
       "    .dataframe tbody tr th:only-of-type {\n",
       "        vertical-align: middle;\n",
       "    }\n",
       "\n",
       "    .dataframe tbody tr th {\n",
       "        vertical-align: top;\n",
       "    }\n",
       "\n",
       "    .dataframe thead th {\n",
       "        text-align: right;\n",
       "    }\n",
       "</style>\n",
       "<table border=\"1\" class=\"dataframe\">\n",
       "  <thead>\n",
       "    <tr style=\"text-align: right;\">\n",
       "      <th></th>\n",
       "      <th>econstres</th>\n",
       "      <th>famsize</th>\n",
       "      <th>age</th>\n",
       "      <th>gender</th>\n",
       "      <th>raceth</th>\n",
       "      <th>edu</th>\n",
       "      <th>heart</th>\n",
       "      <th>stroke</th>\n",
       "      <th>emphy</th>\n",
       "      <th>choles</th>\n",
       "      <th>diabe</th>\n",
       "      <th>arthr</th>\n",
       "      <th>asthm</th>\n",
       "      <th>pover</th>\n",
       "      <th>insurance</th>\n",
       "      <th>totexp</th>\n",
       "      <th>totslf</th>\n",
       "    </tr>\n",
       "  </thead>\n",
       "  <tbody>\n",
       "    <tr>\n",
       "      <th>0</th>\n",
       "      <td>0</td>\n",
       "      <td>2</td>\n",
       "      <td>84</td>\n",
       "      <td>0</td>\n",
       "      <td>white</td>\n",
       "      <td>11</td>\n",
       "      <td>0</td>\n",
       "      <td>0</td>\n",
       "      <td>0</td>\n",
       "      <td>1</td>\n",
       "      <td>1</td>\n",
       "      <td>1</td>\n",
       "      <td>0</td>\n",
       "      <td>5</td>\n",
       "      <td>1</td>\n",
       "      <td>20027</td>\n",
       "      <td>3269</td>\n",
       "    </tr>\n",
       "    <tr>\n",
       "      <th>1</th>\n",
       "      <td>0</td>\n",
       "      <td>1</td>\n",
       "      <td>72</td>\n",
       "      <td>1</td>\n",
       "      <td>white</td>\n",
       "      <td>12</td>\n",
       "      <td>0</td>\n",
       "      <td>1</td>\n",
       "      <td>0</td>\n",
       "      <td>1</td>\n",
       "      <td>0</td>\n",
       "      <td>0</td>\n",
       "      <td>0</td>\n",
       "      <td>4</td>\n",
       "      <td>1</td>\n",
       "      <td>3184</td>\n",
       "      <td>440</td>\n",
       "    </tr>\n",
       "    <tr>\n",
       "      <th>2</th>\n",
       "      <td>0</td>\n",
       "      <td>2</td>\n",
       "      <td>78</td>\n",
       "      <td>1</td>\n",
       "      <td>white</td>\n",
       "      <td>14</td>\n",
       "      <td>0</td>\n",
       "      <td>0</td>\n",
       "      <td>0</td>\n",
       "      <td>1</td>\n",
       "      <td>0</td>\n",
       "      <td>1</td>\n",
       "      <td>0</td>\n",
       "      <td>5</td>\n",
       "      <td>1</td>\n",
       "      <td>8268</td>\n",
       "      <td>1478</td>\n",
       "    </tr>\n",
       "  </tbody>\n",
       "</table>\n",
       "</div>"
      ],
      "text/plain": [
       "   econstres  famsize  age  gender raceth  edu  heart  stroke  emphy  choles  \\\n",
       "0          0        2   84       0  white   11      0       0      0       1   \n",
       "1          0        1   72       1  white   12      0       1      0       1   \n",
       "2          0        2   78       1  white   14      0       0      0       1   \n",
       "\n",
       "   diabe  arthr  asthm  pover  insurance  totexp  totslf  \n",
       "0      1      1      0      5          1   20027    3269  \n",
       "1      0      0      0      4          1    3184     440  \n",
       "2      0      1      0      5          1    8268    1478  "
      ]
     },
     "execution_count": 16,
     "metadata": {},
     "output_type": "execute_result"
    }
   ],
   "source": [
    "cleanup_nums= {\"insurance\": {\"insured\":1, \"uninsured\":0}}\n",
    "df.replace(cleanup_nums, inplace=True)\n",
    "df.head(3)"
   ]
  },
  {
   "cell_type": "markdown",
   "metadata": {},
   "source": [
    "### Create dummy variables"
   ]
  },
  {
   "cell_type": "code",
   "execution_count": 17,
   "metadata": {},
   "outputs": [
    {
     "data": {
      "text/plain": [
       "array(['white', 'black', 'asian', 'hispanic'], dtype=object)"
      ]
     },
     "execution_count": 17,
     "metadata": {},
     "output_type": "execute_result"
    }
   ],
   "source": [
    "df['raceth'].unique()"
   ]
  },
  {
   "cell_type": "code",
   "execution_count": 18,
   "metadata": {},
   "outputs": [
    {
     "data": {
      "image/png": "[encoded data removed]",
      "text/plain": [
       "<Figure size 432x288 with 1 Axes>"
      ]
     },
     "metadata": {
      "needs_background": "light"
     },
     "output_type": "display_data"
    }
   ],
   "source": [
    "pd.crosstab(df.raceth,df.econstres).plot(kind='bar')\n",
    "plt.title('Economic Distress by race/ethnicity')\n",
    "plt.xlabel('Race/ethnicity')\n",
    "plt.ylabel('Frequency of Economic Distress')\n",
    "plt.show()"
   ]
  },
  {
   "cell_type": "markdown",
   "metadata": {},
   "source": [
    "White individuals show more economic hardshhip followed by hispanic and black individuals. "
   ]
  },
  {
   "cell_type": "code",
   "execution_count": 19,
   "metadata": {},
   "outputs": [
    {
     "data": {
      "text/plain": [
       "array(['econstres', 'famsize', 'age', 'gender', 'edu', 'heart', 'stroke',\n",
       "       'emphy', 'choles', 'diabe', 'arthr', 'asthm', 'pover', 'insurance',\n",
       "       'totexp', 'totslf', 'raceth_asian', 'raceth_black',\n",
       "       'raceth_hispanic', 'raceth_white'], dtype=object)"
      ]
     },
     "execution_count": 19,
     "metadata": {},
     "output_type": "execute_result"
    }
   ],
   "source": [
    "df_raceth = pd.get_dummies(df['raceth'], drop_first=False, prefix='raceth',prefix_sep='_')\n",
    "df_new = df.join(df_raceth)\n",
    "df= df_new.drop(['raceth'], axis=1)\n",
    "df.columns.values"
   ]
  },
  {
   "cell_type": "code",
   "execution_count": 20,
   "metadata": {},
   "outputs": [
    {
     "name": "stdout",
     "output_type": "stream",
     "text": [
      "<class 'pandas.core.frame.DataFrame'>\n",
      "Int64Index: 1176 entries, 0 to 1194\n",
      "Data columns (total 20 columns):\n",
      "econstres          1176 non-null int64\n",
      "famsize            1176 non-null int64\n",
      "age                1176 non-null int64\n",
      "gender             1176 non-null int64\n",
      "edu                1176 non-null int64\n",
      "heart              1176 non-null int64\n",
      "stroke             1176 non-null int64\n",
      "emphy              1176 non-null int64\n",
      "choles             1176 non-null int64\n",
      "diabe              1176 non-null int64\n",
      "arthr              1176 non-null int64\n",
      "asthm              1176 non-null int64\n",
      "pover              1176 non-null int64\n",
      "insurance          1176 non-null int64\n",
      "totexp             1176 non-null int64\n",
      "totslf             1176 non-null int64\n",
      "raceth_asian       1176 non-null uint8\n",
      "raceth_black       1176 non-null uint8\n",
      "raceth_hispanic    1176 non-null uint8\n",
      "raceth_white       1176 non-null uint8\n",
      "dtypes: int64(16), uint8(4)\n",
      "memory usage: 200.8 KB\n"
     ]
    }
   ],
   "source": [
    "df.info()"
   ]
  },
  {
   "cell_type": "markdown",
   "metadata": {},
   "source": [
    "## Exploratory Data Analysis\n",
    "To explore the economic hardship variable and the variables associated with it."
   ]
  },
  {
   "cell_type": "code",
   "execution_count": 21,
   "metadata": {},
   "outputs": [
    {
     "data": {
      "text/plain": [
       "0    822\n",
       "1    354\n",
       "Name: econstres, dtype: int64"
      ]
     },
     "execution_count": 21,
     "metadata": {},
     "output_type": "execute_result"
    }
   ],
   "source": [
    "df['econstres'].value_counts()"
   ]
  },
  {
   "cell_type": "code",
   "execution_count": 22,
   "metadata": {},
   "outputs": [
    {
     "data": {
      "image/png": "[encoded data removed]",
      "text/plain": [
       "<Figure size 432x288 with 1 Axes>"
      ]
     },
     "metadata": {
      "needs_background": "light"
     },
     "output_type": "display_data"
    }
   ],
   "source": [
    "df['econstres'].value_counts().plot(kind='bar')\n",
    "plt.xlabel('Economic Distress', fontsize=12)\n",
    "plt.show()"
   ]
  },
  {
   "cell_type": "markdown",
   "metadata": {},
   "source": [
    "Around 1/3 of the individuals report economic distress of having cancer"
   ]
  },
  {
   "cell_type": "code",
   "execution_count": 23,
   "metadata": {},
   "outputs": [
    {
     "data": {
      "image/png": "[encoded data removed]",
      "text/plain": [
       "<Figure size 864x576 with 1 Axes>"
      ]
     },
     "metadata": {
      "needs_background": "light"
     },
     "output_type": "display_data"
    }
   ],
   "source": [
    "plt.figure(figsize=(12,8))\n",
    "sns.countplot(x='age', data=df, alpha=0.8, color=color[2])\n",
    "plt.ylabel('Number of Occurence', fontsize=12)\n",
    "plt.xlabel('Age', fontsize=12)\n",
    "plt.xticks(rotation='vertical')\n",
    "plt.show()"
   ]
  },
  {
   "cell_type": "markdown",
   "metadata": {},
   "source": [
    "The majority of the individuals are over 50 years old. The youngest is 22. There are a large number who are 85+ years old."
   ]
  },
  {
   "cell_type": "code",
   "execution_count": 24,
   "metadata": {},
   "outputs": [
    {
     "data": {
      "image/png": "[encoded data removed]",
      "text/plain": [
       "<Figure size 432x288 with 1 Axes>"
      ]
     },
     "metadata": {
      "needs_background": "light"
     },
     "output_type": "display_data"
    }
   ],
   "source": [
    "# seaborn histogram\n",
    "sns.distplot(df['totexp'], hist=True, kde=True,\n",
    "             bins=int(180/5), color = 'blue',\n",
    "             hist_kws={'edgecolor':'black'},\n",
    "             kde_kws={'linewidth': 1}\n",
    "             )\n",
    "plt.show()"
   ]
  },
  {
   "cell_type": "markdown",
   "metadata": {},
   "source": [
    "There are a large number of observations with zero total expenditures. Total expenditure is max capped at $300,000."
   ]
  },
  {
   "cell_type": "code",
   "execution_count": 25,
   "metadata": {},
   "outputs": [
    {
     "data": {
      "image/png": "[encoded data removed]",
      "text/plain": [
       "<Figure size 432x288 with 1 Axes>"
      ]
     },
     "metadata": {
      "needs_background": "light"
     },
     "output_type": "display_data"
    }
   ],
   "source": [
    "# seaborn histogram\n",
    "sns.distplot(df['totslf'], hist=True, kde=True,\n",
    "             bins=int(180/5), color = 'blue',\n",
    "             hist_kws={'edgecolor':'black'},\n",
    "             kde_kws={'linewidth': 1}\n",
    "             )\n",
    "plt.show()"
   ]
  },
  {
   "cell_type": "code",
   "execution_count": 26,
   "metadata": {},
   "outputs": [
    {
     "data": {
      "image/png": "[encoded data removed]",
      "text/plain": [
       "<Figure size 2160x1440 with 20 Axes>"
      ]
     },
     "metadata": {
      "needs_background": "light"
     },
     "output_type": "display_data"
    }
   ],
   "source": [
    "#Distribution of the features\n",
    "df.hist(bins=50, figsize=(30,20))\n",
    "plt.show()"
   ]
  },
  {
   "cell_type": "markdown",
   "metadata": {},
   "source": [
    "The majority of the families is composed of 1 or 2 members. The distribution of the total expenditures and total out-of-pocket costs are similar. "
   ]
  },
  {
   "cell_type": "code",
   "execution_count": 27,
   "metadata": {},
   "outputs": [
    {
     "data": {
      "image/png": "[encoded data removed]",
      "text/plain": [
       "<Figure size 432x288 with 1 Axes>"
      ]
     },
     "metadata": {
      "needs_background": "light"
     },
     "output_type": "display_data"
    }
   ],
   "source": [
    "var = 'age'\n",
    "data = pd.concat([df['econstres'], df[var]], axis=1)\n",
    "data.plot.scatter(x=var, y='econstres')\n",
    "plt.show()"
   ]
  },
  {
   "cell_type": "markdown",
   "metadata": {},
   "source": [
    "Patients under their 20s are few in both groups, specially for those having financial distress."
   ]
  },
  {
   "cell_type": "code",
   "execution_count": 28,
   "metadata": {},
   "outputs": [
    {
     "data": {
      "image/png": "[encoded data removed]",
      "text/plain": [
       "<Figure size 648x648 with 12 Axes>"
      ]
     },
     "metadata": {
      "needs_background": "light"
     },
     "output_type": "display_data"
    }
   ],
   "source": [
    "sns.set\n",
    "cols=['econstres', 'totexp', 'totslf']\n",
    "sns.pairplot(df[cols], height=3.0)\n",
    "plt.show()"
   ]
  },
  {
   "cell_type": "markdown",
   "metadata": {},
   "source": [
    "Under economic hardship, total out-of-pocket costs shows an outlier while total expenditures do not show outliers. "
   ]
  },
  {
   "cell_type": "markdown",
   "metadata": {},
   "source": [
    "Correlation Matrix"
   ]
  },
  {
   "cell_type": "code",
   "execution_count": 29,
   "metadata": {},
   "outputs": [
    {
     "data": {
      "image/png": "[encoded data removed]",
      "text/plain": [
       "<Figure size 864x720 with 2 Axes>"
      ]
     },
     "metadata": {
      "needs_background": "light"
     },
     "output_type": "display_data"
    }
   ],
   "source": [
    "corrmat =df.corr(method='spearman')\n",
    "f,ax = plt.subplots(figsize=(12,10))\n",
    "sns.heatmap(corrmat, ax=ax, cmap='YlGnBu', linewidths=0.1)\n",
    "plt.show()"
   ]
  },
  {
   "cell_type": "code",
   "execution_count": 30,
   "metadata": {},
   "outputs": [
    {
     "data": {
      "image/png": "[encoded data removed]",
      "text/plain": [
       "<Figure size 864x720 with 2 Axes>"
      ]
     },
     "metadata": {
      "needs_background": "light"
     },
     "output_type": "display_data"
    }
   ],
   "source": [
    "k = 15 #number of variables for heatmap\n",
    "cols = corrmat.nlargest(k, 'econstres')['econstres'].index\n",
    "cm = np.corrcoef(df[cols].values.T)\n",
    "f, ax = plt.subplots(figsize=(12, 10))\n",
    "sns.heatmap(cm, ax=ax, cmap=\"YlGnBu\", linewidths=0.1, yticklabels=cols.values, xticklabels=cols.values)\n",
    "plt.show()"
   ]
  },
  {
   "cell_type": "markdown",
   "metadata": {},
   "source": [
    "The variables that have a high correlation with the label variable are family size, hispanic, total expenditure, black, asthma, stroke and emphizema."
   ]
  },
  {
   "cell_type": "markdown",
   "metadata": {},
   "source": [
    "### Feature Engineering "
   ]
  },
  {
   "cell_type": "code",
   "execution_count": 31,
   "metadata": {
    "scrolled": true
   },
   "outputs": [
    {
     "data": {
      "image/png": "[encoded data removed]",
      "text/plain": [
       "<Figure size 432x288 with 1 Axes>"
      ]
     },
     "metadata": {
      "needs_background": "light"
     },
     "output_type": "display_data"
    }
   ],
   "source": [
    "# Given that totexp is skewed to the right, convert it to log\n",
    "df['logtotexp']=np.log1p(df['totexp'])\n",
    "sns.distplot(df['logtotexp'], fit=norm)\n",
    "plt.show()"
   ]
  },
  {
   "cell_type": "code",
   "execution_count": 32,
   "metadata": {},
   "outputs": [
    {
     "data": {
      "image/png": "[encoded data removed]",
      "text/plain": [
       "<Figure size 432x288 with 1 Axes>"
      ]
     },
     "metadata": {
      "needs_background": "light"
     },
     "output_type": "display_data"
    }
   ],
   "source": [
    "# Given that totslf is skewed to the right, transform it to log\n",
    "df['logtotslf']=np.log1p(df['totslf'])\n",
    "sns.distplot(df['logtotslf'], fit=norm)\n",
    "plt.show()"
   ]
  },
  {
   "cell_type": "code",
   "execution_count": 33,
   "metadata": {},
   "outputs": [
    {
     "data": {
      "image/png": "[encoded data removed]",
      "text/plain": [
       "<Figure size 432x288 with 1 Axes>"
      ]
     },
     "metadata": {
      "needs_background": "light"
     },
     "output_type": "display_data"
    }
   ],
   "source": [
    "# Given that totexp is skewed to the right, convert it to log\n",
    "df['logage']=np.log1p(df['age'])\n",
    "sns.distplot(df['logage'], fit=norm)\n",
    "plt.show()"
   ]
  },
  {
   "cell_type": "code",
   "execution_count": 34,
   "metadata": {},
   "outputs": [
    {
     "data": {
      "text/html": [
       "<div>\n",
       "<style scoped>\n",
       "    .dataframe tbody tr th:only-of-type {\n",
       "        vertical-align: middle;\n",
       "    }\n",
       "\n",
       "    .dataframe tbody tr th {\n",
       "        vertical-align: top;\n",
       "    }\n",
       "\n",
       "    .dataframe thead th {\n",
       "        text-align: right;\n",
       "    }\n",
       "</style>\n",
       "<table border=\"1\" class=\"dataframe\">\n",
       "  <thead>\n",
       "    <tr style=\"text-align: right;\">\n",
       "      <th></th>\n",
       "      <th>econstres</th>\n",
       "      <th>famsize</th>\n",
       "      <th>age</th>\n",
       "      <th>gender</th>\n",
       "      <th>edu</th>\n",
       "      <th>heart</th>\n",
       "      <th>stroke</th>\n",
       "      <th>emphy</th>\n",
       "      <th>choles</th>\n",
       "      <th>diabe</th>\n",
       "      <th>...</th>\n",
       "      <th>insurance</th>\n",
       "      <th>totexp</th>\n",
       "      <th>totslf</th>\n",
       "      <th>raceth_asian</th>\n",
       "      <th>raceth_black</th>\n",
       "      <th>raceth_hispanic</th>\n",
       "      <th>raceth_white</th>\n",
       "      <th>logtotexp</th>\n",
       "      <th>logtotslf</th>\n",
       "      <th>logage</th>\n",
       "    </tr>\n",
       "  </thead>\n",
       "  <tbody>\n",
       "    <tr>\n",
       "      <th>0</th>\n",
       "      <td>0</td>\n",
       "      <td>2</td>\n",
       "      <td>84</td>\n",
       "      <td>0</td>\n",
       "      <td>11</td>\n",
       "      <td>0</td>\n",
       "      <td>0</td>\n",
       "      <td>0</td>\n",
       "      <td>1</td>\n",
       "      <td>1</td>\n",
       "      <td>...</td>\n",
       "      <td>1</td>\n",
       "      <td>20027</td>\n",
       "      <td>3269</td>\n",
       "      <td>0</td>\n",
       "      <td>0</td>\n",
       "      <td>0</td>\n",
       "      <td>1</td>\n",
       "      <td>9.904887</td>\n",
       "      <td>8.092545</td>\n",
       "      <td>4.442651</td>\n",
       "    </tr>\n",
       "    <tr>\n",
       "      <th>1</th>\n",
       "      <td>0</td>\n",
       "      <td>1</td>\n",
       "      <td>72</td>\n",
       "      <td>1</td>\n",
       "      <td>12</td>\n",
       "      <td>0</td>\n",
       "      <td>1</td>\n",
       "      <td>0</td>\n",
       "      <td>1</td>\n",
       "      <td>0</td>\n",
       "      <td>...</td>\n",
       "      <td>1</td>\n",
       "      <td>3184</td>\n",
       "      <td>440</td>\n",
       "      <td>0</td>\n",
       "      <td>0</td>\n",
       "      <td>0</td>\n",
       "      <td>1</td>\n",
       "      <td>8.066208</td>\n",
       "      <td>6.089045</td>\n",
       "      <td>4.290459</td>\n",
       "    </tr>\n",
       "    <tr>\n",
       "      <th>2</th>\n",
       "      <td>0</td>\n",
       "      <td>2</td>\n",
       "      <td>78</td>\n",
       "      <td>1</td>\n",
       "      <td>14</td>\n",
       "      <td>0</td>\n",
       "      <td>0</td>\n",
       "      <td>0</td>\n",
       "      <td>1</td>\n",
       "      <td>0</td>\n",
       "      <td>...</td>\n",
       "      <td>1</td>\n",
       "      <td>8268</td>\n",
       "      <td>1478</td>\n",
       "      <td>0</td>\n",
       "      <td>0</td>\n",
       "      <td>0</td>\n",
       "      <td>1</td>\n",
       "      <td>9.020269</td>\n",
       "      <td>7.299121</td>\n",
       "      <td>4.369448</td>\n",
       "    </tr>\n",
       "  </tbody>\n",
       "</table>\n",
       "<p>3 rows × 23 columns</p>\n",
       "</div>"
      ],
      "text/plain": [
       "   econstres  famsize  age  gender  edu  heart  stroke  emphy  choles  diabe  \\\n",
       "0          0        2   84       0   11      0       0      0       1      1   \n",
       "1          0        1   72       1   12      0       1      0       1      0   \n",
       "2          0        2   78       1   14      0       0      0       1      0   \n",
       "\n",
       "     ...     insurance  totexp  totslf  raceth_asian  raceth_black  \\\n",
       "0    ...             1   20027    3269             0             0   \n",
       "1    ...             1    3184     440             0             0   \n",
       "2    ...             1    8268    1478             0             0   \n",
       "\n",
       "   raceth_hispanic  raceth_white  logtotexp  logtotslf    logage  \n",
       "0                0             1   9.904887   8.092545  4.442651  \n",
       "1                0             1   8.066208   6.089045  4.290459  \n",
       "2                0             1   9.020269   7.299121  4.369448  \n",
       "\n",
       "[3 rows x 23 columns]"
      ]
     },
     "execution_count": 34,
     "metadata": {},
     "output_type": "execute_result"
    }
   ],
   "source": [
    "df.head(3)"
   ]
  },
  {
   "cell_type": "markdown",
   "metadata": {},
   "source": [
    "## Modeling\n",
    "For this analysis the transformated variables (or features) are not used. The original features were used."
   ]
  },
  {
   "cell_type": "markdown",
   "metadata": {},
   "source": [
    "### Extract the target variable\n",
    "Create an y series with the target variable (econstres)"
   ]
  },
  {
   "cell_type": "code",
   "execution_count": 35,
   "metadata": {},
   "outputs": [],
   "source": [
    "y = df.econstres.copy()"
   ]
  },
  {
   "cell_type": "markdown",
   "metadata": {},
   "source": [
    "### Create an X dataframe with the input features\n",
    "\n",
    "Drop not so important features"
   ]
  },
  {
   "cell_type": "code",
   "execution_count": 36,
   "metadata": {},
   "outputs": [],
   "source": [
    "X = df.drop(['econstres', 'logtotexp', 'logtotslf', 'logage'], axis=1)"
   ]
  },
  {
   "cell_type": "markdown",
   "metadata": {},
   "source": [
    "### Split the dataset into training and validation\n",
    "The training set is used to build the machine learning models.\n",
    "The test set is used to see how well the model performs on unseen data."
   ]
  },
  {
   "cell_type": "code",
   "execution_count": 37,
   "metadata": {},
   "outputs": [],
   "source": [
    "from sklearn.model_selection import train_test_split"
   ]
  },
  {
   "cell_type": "code",
   "execution_count": 38,
   "metadata": {},
   "outputs": [],
   "source": [
    "#80% go into the training set, 20% in the validation test\n",
    "X_train, X_test, y_train, y_test = train_test_split(X, y, test_size=0.2, random_state=0)"
   ]
  },
  {
   "cell_type": "markdown",
   "metadata": {},
   "source": [
    "### Logistic Regression"
   ]
  },
  {
   "cell_type": "code",
   "execution_count": 39,
   "metadata": {},
   "outputs": [
    {
     "data": {
      "text/plain": [
       "LogisticRegression(C=1.0, class_weight=None, dual=False, fit_intercept=False,\n",
       "          intercept_scaling=1, max_iter=100, multi_class='ovr', n_jobs=1,\n",
       "          penalty='l2', random_state=None, solver='liblinear', tol=0.0001,\n",
       "          verbose=0, warm_start=False)"
      ]
     },
     "execution_count": 39,
     "metadata": {},
     "output_type": "execute_result"
    }
   ],
   "source": [
    "from sklearn.linear_model import LogisticRegression\n",
    "from sklearn.metrics import accuracy_score\n",
    "from sklearn.metrics import confusion_matrix\n",
    "from sklearn.metrics import classification_report\n",
    "from sklearn.metrics import roc_curve,roc_auc_score\n",
    "\n",
    "log_model = LogisticRegression(fit_intercept=False)\n",
    "log_model.fit(X_train, y_train)"
   ]
  },
  {
   "cell_type": "code",
   "execution_count": 40,
   "metadata": {},
   "outputs": [
    {
     "name": "stdout",
     "output_type": "stream",
     "text": [
      "Accuracy: 0.7330508474576272\n",
      "ROC AUC score: 0.570387706438223\n",
      "Classification Report:\n",
      "             precision    recall  f1-score   support\n",
      "\n",
      "          0       0.75      0.95      0.84       169\n",
      "          1       0.59      0.19      0.29        67\n",
      "\n",
      "avg / total       0.70      0.73      0.68       236\n",
      "\n",
      "Confusion Matrix:\n"
     ]
    },
    {
     "data": {
      "text/html": [
       "<div>\n",
       "<style scoped>\n",
       "    .dataframe tbody tr th:only-of-type {\n",
       "        vertical-align: middle;\n",
       "    }\n",
       "\n",
       "    .dataframe tbody tr th {\n",
       "        vertical-align: top;\n",
       "    }\n",
       "\n",
       "    .dataframe thead th {\n",
       "        text-align: right;\n",
       "    }\n",
       "</style>\n",
       "<table border=\"1\" class=\"dataframe\">\n",
       "  <thead>\n",
       "    <tr style=\"text-align: right;\">\n",
       "      <th></th>\n",
       "      <th>Predicted Not EconomicHardship</th>\n",
       "      <th>Predicted EconomicHardship</th>\n",
       "    </tr>\n",
       "  </thead>\n",
       "  <tbody>\n",
       "    <tr>\n",
       "      <th>True Not EconomicHardship</th>\n",
       "      <td>160</td>\n",
       "      <td>9</td>\n",
       "    </tr>\n",
       "    <tr>\n",
       "      <th>True EconomicHardship</th>\n",
       "      <td>54</td>\n",
       "      <td>13</td>\n",
       "    </tr>\n",
       "  </tbody>\n",
       "</table>\n",
       "</div>"
      ],
      "text/plain": [
       "                           Predicted Not EconomicHardship  \\\n",
       "True Not EconomicHardship                             160   \n",
       "True EconomicHardship                                  54   \n",
       "\n",
       "                           Predicted EconomicHardship  \n",
       "True Not EconomicHardship                           9  \n",
       "True EconomicHardship                              13  "
      ]
     },
     "execution_count": 40,
     "metadata": {},
     "output_type": "execute_result"
    }
   ],
   "source": [
    "y_pred = log_model.predict(X_test)\n",
    "\n",
    "print('Accuracy:', accuracy_score(y_test, y_pred)) # Model Accuracy, how often is the classifier correct?\n",
    "print('ROC AUC score:', roc_auc_score(y_test, y_pred))\n",
    "print('Classification Report:')\n",
    "print(classification_report(y_test, y_pred))\n",
    "print('Confusion Matrix:')\n",
    "pd.DataFrame(\n",
    "    confusion_matrix(y_test, y_pred),\n",
    "    columns=['Predicted Not EconomicHardship', 'Predicted EconomicHardship'],\n",
    "    index=['True Not EconomicHardship', 'True EconomicHardship']\n",
    ")"
   ]
  },
  {
   "cell_type": "markdown",
   "metadata": {},
   "source": [
    "### Support Vector Classification"
   ]
  },
  {
   "cell_type": "code",
   "execution_count": 41,
   "metadata": {},
   "outputs": [
    {
     "data": {
      "text/plain": [
       "SVC(C=1.0, cache_size=200, class_weight=None, coef0=0.0,\n",
       "  decision_function_shape='ovr', degree=3, gamma='auto', kernel='rbf',\n",
       "  max_iter=-1, probability=False, random_state=None, shrinking=True,\n",
       "  tol=0.001, verbose=False)"
      ]
     },
     "execution_count": 41,
     "metadata": {},
     "output_type": "execute_result"
    }
   ],
   "source": [
    "from sklearn.svm import SVC\n",
    "svc_model = SVC()\n",
    "svc_model.fit(X_train,y_train)"
   ]
  },
  {
   "cell_type": "code",
   "execution_count": 42,
   "metadata": {},
   "outputs": [
    {
     "name": "stdout",
     "output_type": "stream",
     "text": [
      "Accuracy: 0.7161016949152542\n",
      "ROC AUC score: 0.5\n",
      "Classification Report:\n",
      "             precision    recall  f1-score   support\n",
      "\n",
      "          0       0.72      1.00      0.83       169\n",
      "          1       0.00      0.00      0.00        67\n",
      "\n",
      "avg / total       0.51      0.72      0.60       236\n",
      "\n",
      "Confusion Matrix:\n"
     ]
    },
    {
     "data": {
      "text/html": [
       "<div>\n",
       "<style scoped>\n",
       "    .dataframe tbody tr th:only-of-type {\n",
       "        vertical-align: middle;\n",
       "    }\n",
       "\n",
       "    .dataframe tbody tr th {\n",
       "        vertical-align: top;\n",
       "    }\n",
       "\n",
       "    .dataframe thead th {\n",
       "        text-align: right;\n",
       "    }\n",
       "</style>\n",
       "<table border=\"1\" class=\"dataframe\">\n",
       "  <thead>\n",
       "    <tr style=\"text-align: right;\">\n",
       "      <th></th>\n",
       "      <th>Predicted Not EconomicHardship</th>\n",
       "      <th>Predicted EconomicHardship</th>\n",
       "    </tr>\n",
       "  </thead>\n",
       "  <tbody>\n",
       "    <tr>\n",
       "      <th>True Not EconomicHardship</th>\n",
       "      <td>169</td>\n",
       "      <td>0</td>\n",
       "    </tr>\n",
       "    <tr>\n",
       "      <th>True EconomicHardship</th>\n",
       "      <td>67</td>\n",
       "      <td>0</td>\n",
       "    </tr>\n",
       "  </tbody>\n",
       "</table>\n",
       "</div>"
      ],
      "text/plain": [
       "                           Predicted Not EconomicHardship  \\\n",
       "True Not EconomicHardship                             169   \n",
       "True EconomicHardship                                  67   \n",
       "\n",
       "                           Predicted EconomicHardship  \n",
       "True Not EconomicHardship                           0  \n",
       "True EconomicHardship                               0  "
      ]
     },
     "execution_count": 42,
     "metadata": {},
     "output_type": "execute_result"
    }
   ],
   "source": [
    "y_pred = svc_model.predict(X_test)\n",
    "\n",
    "print('Accuracy:', accuracy_score(y_test, y_pred)) # Model Accuracy, how often is the classifier correct?\n",
    "print('ROC AUC score:', roc_auc_score(y_test, y_pred))\n",
    "print('Classification Report:')\n",
    "print(classification_report(y_test, y_pred))\n",
    "print('Confusion Matrix:')\n",
    "pd.DataFrame(\n",
    "    confusion_matrix(y_test, y_pred),\n",
    "    columns=['Predicted Not EconomicHardship', 'Predicted EconomicHardship'],\n",
    "    index=['True Not EconomicHardship', 'True EconomicHardship']\n",
    ")"
   ]
  },
  {
   "cell_type": "markdown",
   "metadata": {},
   "source": [
    "### Decision Tree"
   ]
  },
  {
   "cell_type": "code",
   "execution_count": 43,
   "metadata": {},
   "outputs": [
    {
     "data": {
      "text/plain": [
       "DecisionTreeClassifier(class_weight=None, criterion='gini', max_depth=None,\n",
       "            max_features=None, max_leaf_nodes=None,\n",
       "            min_impurity_decrease=0.0, min_impurity_split=None,\n",
       "            min_samples_leaf=1, min_samples_split=2,\n",
       "            min_weight_fraction_leaf=0.0, presort=False, random_state=None,\n",
       "            splitter='best')"
      ]
     },
     "execution_count": 43,
     "metadata": {},
     "output_type": "execute_result"
    }
   ],
   "source": [
    "from sklearn.tree import DecisionTreeClassifier\n",
    "tree_model = DecisionTreeClassifier()\n",
    "tree_model.fit(X_train,y_train)"
   ]
  },
  {
   "cell_type": "code",
   "execution_count": 44,
   "metadata": {},
   "outputs": [
    {
     "name": "stdout",
     "output_type": "stream",
     "text": [
      "Accuracy: 0.597457627118644\n",
      "ROC AUC score: 0.5162501103947718\n",
      "Classification Report:\n",
      "             precision    recall  f1-score   support\n",
      "\n",
      "          0       0.73      0.70      0.71       169\n",
      "          1       0.31      0.33      0.32        67\n",
      "\n",
      "avg / total       0.61      0.60      0.60       236\n",
      "\n",
      "Confusion Matrix:\n"
     ]
    },
    {
     "data": {
      "text/html": [
       "<div>\n",
       "<style scoped>\n",
       "    .dataframe tbody tr th:only-of-type {\n",
       "        vertical-align: middle;\n",
       "    }\n",
       "\n",
       "    .dataframe tbody tr th {\n",
       "        vertical-align: top;\n",
       "    }\n",
       "\n",
       "    .dataframe thead th {\n",
       "        text-align: right;\n",
       "    }\n",
       "</style>\n",
       "<table border=\"1\" class=\"dataframe\">\n",
       "  <thead>\n",
       "    <tr style=\"text-align: right;\">\n",
       "      <th></th>\n",
       "      <th>Predicted Not EconomicHardship</th>\n",
       "      <th>Predicted EconomicHardship</th>\n",
       "    </tr>\n",
       "  </thead>\n",
       "  <tbody>\n",
       "    <tr>\n",
       "      <th>True Not EconomicHardship</th>\n",
       "      <td>119</td>\n",
       "      <td>50</td>\n",
       "    </tr>\n",
       "    <tr>\n",
       "      <th>True EconomicHardship</th>\n",
       "      <td>45</td>\n",
       "      <td>22</td>\n",
       "    </tr>\n",
       "  </tbody>\n",
       "</table>\n",
       "</div>"
      ],
      "text/plain": [
       "                           Predicted Not EconomicHardship  \\\n",
       "True Not EconomicHardship                             119   \n",
       "True EconomicHardship                                  45   \n",
       "\n",
       "                           Predicted EconomicHardship  \n",
       "True Not EconomicHardship                          50  \n",
       "True EconomicHardship                              22  "
      ]
     },
     "execution_count": 44,
     "metadata": {},
     "output_type": "execute_result"
    }
   ],
   "source": [
    "y_pred = tree_model.predict(X_test)\n",
    "\n",
    "print('Accuracy:', accuracy_score(y_test, y_pred)) # Model Accuracy, how often is the classifier correct?\n",
    "print('ROC AUC score:', roc_auc_score(y_test, y_pred))\n",
    "print('Classification Report:')\n",
    "print(classification_report(y_test, y_pred))\n",
    "print('Confusion Matrix:')\n",
    "pd.DataFrame(\n",
    "    confusion_matrix(y_test, y_pred),\n",
    "    columns=['Predicted Not EconomicHardship', 'Predicted EconomicHardship'],\n",
    "    index=['True Not EconomicHardship', 'True EconomicHardship']\n",
    ")"
   ]
  },
  {
   "cell_type": "markdown",
   "metadata": {},
   "source": [
    "### Random Forest with 1000 trees"
   ]
  },
  {
   "cell_type": "code",
   "execution_count": 45,
   "metadata": {},
   "outputs": [
    {
     "name": "stderr",
     "output_type": "stream",
     "text": [
      "/anaconda3/lib/python3.7/site-packages/sklearn/ensemble/weight_boosting.py:29: DeprecationWarning: numpy.core.umath_tests is an internal NumPy module and should not be imported. It will be removed in a future NumPy release.\n",
      "  from numpy.core.umath_tests import inner1d\n"
     ]
    },
    {
     "data": {
      "text/plain": [
       "RandomForestClassifier(bootstrap=True, class_weight=None, criterion='gini',\n",
       "            max_depth=None, max_features='auto', max_leaf_nodes=None,\n",
       "            min_impurity_decrease=0.0, min_impurity_split=None,\n",
       "            min_samples_leaf=1, min_samples_split=2,\n",
       "            min_weight_fraction_leaf=0.0, n_estimators=1000, n_jobs=1,\n",
       "            oob_score=False, random_state=None, verbose=0,\n",
       "            warm_start=False)"
      ]
     },
     "execution_count": 45,
     "metadata": {},
     "output_type": "execute_result"
    }
   ],
   "source": [
    "from sklearn.ensemble import RandomForestClassifier\n",
    "rf_model=RandomForestClassifier(n_estimators=1000)\n",
    "rf_model.fit(X_train,y_train)\n"
   ]
  },
  {
   "cell_type": "code",
   "execution_count": 46,
   "metadata": {},
   "outputs": [
    {
     "name": "stdout",
     "output_type": "stream",
     "text": [
      "Accuracy: 0.6864406779661016\n",
      "ROC AUC score: 0.546851541111013\n",
      "Classification Report:\n",
      "             precision    recall  f1-score   support\n",
      "\n",
      "          0       0.74      0.87      0.80       169\n",
      "          1       0.41      0.22      0.29        67\n",
      "\n",
      "avg / total       0.64      0.69      0.65       236\n",
      "\n",
      "Confusion Matrix:\n"
     ]
    },
    {
     "data": {
      "text/html": [
       "<div>\n",
       "<style scoped>\n",
       "    .dataframe tbody tr th:only-of-type {\n",
       "        vertical-align: middle;\n",
       "    }\n",
       "\n",
       "    .dataframe tbody tr th {\n",
       "        vertical-align: top;\n",
       "    }\n",
       "\n",
       "    .dataframe thead th {\n",
       "        text-align: right;\n",
       "    }\n",
       "</style>\n",
       "<table border=\"1\" class=\"dataframe\">\n",
       "  <thead>\n",
       "    <tr style=\"text-align: right;\">\n",
       "      <th></th>\n",
       "      <th>Predicted Not EconomicHardship</th>\n",
       "      <th>Predicted EconomicHardship</th>\n",
       "    </tr>\n",
       "  </thead>\n",
       "  <tbody>\n",
       "    <tr>\n",
       "      <th>True Not EconomicHardship</th>\n",
       "      <td>147</td>\n",
       "      <td>22</td>\n",
       "    </tr>\n",
       "    <tr>\n",
       "      <th>True EconomicHardship</th>\n",
       "      <td>52</td>\n",
       "      <td>15</td>\n",
       "    </tr>\n",
       "  </tbody>\n",
       "</table>\n",
       "</div>"
      ],
      "text/plain": [
       "                           Predicted Not EconomicHardship  \\\n",
       "True Not EconomicHardship                             147   \n",
       "True EconomicHardship                                  52   \n",
       "\n",
       "                           Predicted EconomicHardship  \n",
       "True Not EconomicHardship                          22  \n",
       "True EconomicHardship                              15  "
      ]
     },
     "execution_count": 46,
     "metadata": {},
     "output_type": "execute_result"
    }
   ],
   "source": [
    "y_pred = rf_model.predict(X_test)\n",
    "\n",
    "print('Accuracy:', accuracy_score(y_test, y_pred)) # Model Accuracy, how often is the classifier correct?\n",
    "print('ROC AUC score:', roc_auc_score(y_test, y_pred))\n",
    "print('Classification Report:')\n",
    "print(classification_report(y_test, y_pred))\n",
    "print('Confusion Matrix:')\n",
    "pd.DataFrame(\n",
    "    confusion_matrix(y_test, y_pred),\n",
    "    columns=['Predicted Not EconomicHardship', 'Predicted EconomicHardship'],\n",
    "    index=['True Not EconomicHardship', 'True EconomicHardship']\n",
    ")"
   ]
  },
  {
   "cell_type": "markdown",
   "metadata": {},
   "source": [
    "### To Plot multiple ROC curves in one plot"
   ]
  },
  {
   "cell_type": "code",
   "execution_count": 47,
   "metadata": {},
   "outputs": [
    {
     "data": {
      "image/png": "[encoded data removed]",
      "text/plain": [
       "<Figure size 432x288 with 1 Axes>"
      ]
     },
     "metadata": {
      "needs_background": "light"
     },
     "output_type": "display_data"
    }
   ],
   "source": [
    "from sklearn import metrics\n",
    "\n",
    "plt.figure()\n",
    "\n",
    "# Add the models to the list that you want to view on the ROC plot\n",
    "models = [\n",
    "{\n",
    "    'label': 'Logistic Regression',\n",
    "    'model': LogisticRegression(fit_intercept=False),\n",
    "},\n",
    "{\n",
    "    'label': 'Support Vector Classification',\n",
    "    'model': SVC(probability=True),\n",
    "},\n",
    "    {\n",
    "    'label': 'Decision Tree',\n",
    "    'model': DecisionTreeClassifier(),\n",
    "},\n",
    "{\n",
    "    'label': 'Random Forest',\n",
    "    'model': RandomForestClassifier(n_estimators=1000),\n",
    "}\n",
    "]\n",
    "\n",
    "# Below for loop iterates through your models list\n",
    "for m in models:\n",
    "    model = m['model'] # select the model\n",
    "    model.fit(X_train, y_train) # train the model\n",
    "    y_pred=model.predict(X_test) # predict the test data\n",
    "# Compute False postive rate, and True positive rate\n",
    "    fpr, tpr, thresholds = metrics.roc_curve(y_test, model.predict_proba(X_test)[:,1])\n",
    "# Calculate Area under the curve to display on the plot\n",
    "    auc = metrics.roc_auc_score(y_test,model.predict(X_test))\n",
    "# Now, plot the computed values\n",
    "    plt.plot(fpr, tpr, label='%s ROC (area = %0.2f)' % (m['label'], auc))\n",
    "# Custom settings for the plot \n",
    "plt.plot([0, 1], [0, 1],'r--')\n",
    "plt.xlim([0.0, 1.0])\n",
    "plt.ylim([0.0, 1.05])\n",
    "plt.xlabel('1-Specificity(False Positive Rate)')\n",
    "plt.ylabel('Sensitivity(True Positive Rate)')\n",
    "plt.title('Receiver Operating Characteristic')\n",
    "plt.legend(loc=\"lower right\")\n",
    "plt.show()   # Display"
   ]
  },
  {
   "cell_type": "markdown",
   "metadata": {},
   "source": [
    "Based on the AUC scores, the logistic regression and the random forest are the best models. Overall, the best model is the logistic regression since it produces roughly the same result as the random forest and takes a lot less time to process than the random forest."
   ]
  },
  {
   "cell_type": "code",
   "execution_count": 48,
   "metadata": {},
   "outputs": [],
   "source": [
    "#Using the log features\n",
    "X_tfm = df.drop(['econstres', 'totexp', 'totslf', 'age'], axis=1)"
   ]
  },
  {
   "cell_type": "code",
   "execution_count": 49,
   "metadata": {},
   "outputs": [],
   "source": [
    "X_train_tfm, X_test_tfm, y_train_tfm, y_test_tfm = train_test_split(X_tfm, y, test_size=0.2, random_state=0)"
   ]
  },
  {
   "cell_type": "code",
   "execution_count": 50,
   "metadata": {},
   "outputs": [
    {
     "data": {
      "image/png": "[encoded data removed]",
      "text/plain": [
       "<Figure size 432x288 with 1 Axes>"
      ]
     },
     "metadata": {
      "needs_background": "light"
     },
     "output_type": "display_data"
    }
   ],
   "source": [
    "plt.figure()\n",
    "\n",
    "# Add the models to the list that you want to view on the ROC plot\n",
    "models = [\n",
    "{\n",
    "    'label': 'Logistic Regression',\n",
    "    'model': LogisticRegression(fit_intercept=False),\n",
    "},\n",
    "{\n",
    "    'label': 'Support Vector Classification',\n",
    "    'model': SVC(probability=True),\n",
    "},\n",
    "    {\n",
    "    'label': 'Decision Tree',\n",
    "    'model': DecisionTreeClassifier(),\n",
    "},\n",
    "{\n",
    "    'label': 'Random Forest',\n",
    "    'model': RandomForestClassifier(n_estimators=1000),\n",
    "}\n",
    "]\n",
    "\n",
    "# Below for loop iterates through your models list\n",
    "for m in models:\n",
    "    model = m['model'] # select the model\n",
    "    model.fit(X_train_tfm, y_train_tfm) # train the model\n",
    "    y_pred_tfm=model.predict(X_test_tfm) # predict the test data\n",
    "# Compute False postive rate, and True positive rate\n",
    "    fpr, tpr, thresholds = metrics.roc_curve(y_test, model.predict_proba(X_test_tfm)[:,1])\n",
    "# Calculate Area under the curve to display on the plot\n",
    "    auc = metrics.roc_auc_score(y_test,model.predict(X_test_tfm))\n",
    "# Now, plot the computed values\n",
    "    plt.plot(fpr, tpr, label='%s ROC (area = %0.2f)' % (m['label'], auc))\n",
    "# Custom settings for the plot \n",
    "plt.plot([0, 1], [0, 1],'r--')\n",
    "plt.xlim([0.0, 1.0])\n",
    "plt.ylim([0.0, 1.05])\n",
    "plt.xlabel('1-Specificity(False Positive Rate)')\n",
    "plt.ylabel('Sensitivity(True Positive Rate)')\n",
    "plt.title('Receiver Operating Characteristic')\n",
    "plt.legend(loc=\"lower right\")\n",
    "plt.show()   # Display"
   ]
  },
  {
   "cell_type": "raw",
   "metadata": {},
   "source": [
    "Using the log features, the AUC scores are higher for the logistic regression and the random forest models. \n",
    "\n",
    "Overall, the best model is Random Forest using the original features, that is without transformation."
   ]
  }
 ],
 "metadata": {
  "kernelspec": {
   "display_name": "Python 3",
   "language": "python",
   "name": "python3"
  },
  "language_info": {
   "codemirror_mode": {
    "name": "ipython",
    "version": 3
   },
   "file_extension": ".py",
   "mimetype": "text/x-python",
   "name": "python",
   "nbconvert_exporter": "python",
   "pygments_lexer": "ipython3",
   "version": "3.7.0"
  }
 },
 "nbformat": 4,
 "nbformat_minor": 2
}
